{
 "cells": [
  {
   "cell_type": "markdown",
   "metadata": {},
   "source": [
    "Products_most_reordered"
   ]
  },
  {
   "cell_type": "code",
   "execution_count": null,
   "metadata": {},
   "outputs": [],
   "source": [
    "# Create a dataframe with the most reordered products\n",
    "op_one=op[op.reordered==1]\n",
    "products_most_reordered = op_one.groupby('product_id')['reordered'].count().to_frame('most_reordered') #\n",
    "products_most_reordered = products_most_reordered.reset_index()\n",
    "products_most_reordered.head()"
   ]
  },
  {
   "cell_type": "code",
   "execution_count": null,
   "metadata": {},
   "outputs": [],
   "source": [
    "prd=prd.merge(products_most_reordered, on='product_id', how='left')\n",
    "\n",
    "del products_most_reordered\n",
    "gc.collect()"
   ]
  },
  {
   "cell_type": "code",
   "execution_count": null,
   "metadata": {},
   "outputs": [],
   "source": [
    "prd['most_reordered']=prd['most_reordered'].fillna(value=0)\n",
    "prd.head()"
   ]
  },
  {
   "cell_type": "markdown",
   "metadata": {},
   "source": [
    "reorder frequency per customer"
   ]
  },
  {
   "cell_type": "code",
   "execution_count": null,
   "metadata": {},
   "outputs": [],
   "source": [
    "u_reorder = op.groupby('user_id')['reordered'].mean().to_frame('u_reordered_ratio')\n",
    "u_reorder = u_reorder.reset_index()\n",
    "u_reorder.head()"
   ]
  },
  {
   "cell_type": "code",
   "execution_count": null,
   "metadata": {},
   "outputs": [],
   "source": [
    "user = user.merge(u_reorder, on='user_id', how='left')\n",
    "\n",
    "del u_reorder\n",
    "gc.collect()\n",
    "\n",
    "user.head()"
   ]
  },
  {
   "cell_type": "markdown",
   "metadata": {},
   "source": [
    "User product avg pos"
   ]
  },
  {
   "cell_type": "code",
   "execution_count": null,
   "metadata": {},
   "outputs": [],
   "source": [
    "#We calculate the average position of each product for each customer\n",
    "user_product_avg_pos=op.groupby(['user_id','product_id'])[['add_to_cart_order']].mean()\n",
    "\n",
    "#we rename the add_to_cart_order\n",
    "user_product_avg_pos=user_product_avg_pos.rename(columns={'add_to_cart_order':'mean_add_to_cart_order'})\n",
    "user_product_avg_pos.head()\n",
    "\n",
    "# Reset the index of the DF so to bring user_id & product_id indices to columns\n",
    "user_product_avg_pos = user_product_avg_pos.reset_index()\n",
    "\n",
    "#we calculate the biggest basket - it will be used when we will fill Nan values later\n",
    "max_basket_size=max(user_product_avg_pos.max())\n",
    "\n",
    "\n",
    "\n",
    "user_product_avg_pos.head()"
   ]
  },
  {
   "cell_type": "markdown",
   "metadata": {},
   "source": [
    "times product bought last 5 orders"
   ]
  },
  {
   "cell_type": "code",
   "execution_count": null,
   "metadata": {},
   "outputs": [],
   "source": [
    "prd['order_number_back'] = prd.groupby('user_id')['order_number'].transform(max) - prd.order_number +1 \n",
    "prd5 = prd[prd.order_number_back <= 5]\n",
    "last_five = prd5.groupby(['user_id','product_id'])[['order_id']].count()\n",
    "last_five.columns = ['times_last5']\n",
    "last_five['times_last5_ratio'] = last_five.times_last5 / 5\n",
    "prd5_with_five_orders= prd5.groupby('user_id').filter(lambda x: x.order_number_back.max() == 5)\n"
   ]
  },
  {
   "cell_type": "markdown",
   "metadata": {},
   "source": []
  },
  {
   "cell_type": "code",
   "execution_count": null,
   "metadata": {},
   "outputs": [],
   "source": []
  },
  {
   "cell_type": "markdown",
   "metadata": {},
   "source": []
  },
  {
   "cell_type": "code",
   "execution_count": null,
   "metadata": {},
   "outputs": [],
   "source": []
  }
 ],
 "metadata": {
  "kernelspec": {
   "display_name": "Python 3",
   "language": "python",
   "name": "python3"
  },
  "language_info": {
   "codemirror_mode": {
    "name": "ipython",
    "version": 3
   },
   "file_extension": ".py",
   "mimetype": "text/x-python",
   "name": "python",
   "nbconvert_exporter": "python",
   "pygments_lexer": "ipython3",
   "version": "3.7.6"
  }
 },
 "nbformat": 4,
 "nbformat_minor": 4
}
